{
 "cells": [
  {
   "cell_type": "code",
   "execution_count": 1,
   "id": "9678cb0e-8b33-4a2f-9694-1d6e82c2b634",
   "metadata": {},
   "outputs": [
    {
     "name": "stdout",
     "output_type": "stream",
     "text": [
      "Requirement already satisfied: google-generativeai in /Users/6lueparr0t/miniconda3/envs/llm/lib/python3.13/site-packages (0.8.3)\n",
      "Requirement already satisfied: google-ai-generativelanguage==0.6.10 in /Users/6lueparr0t/miniconda3/envs/llm/lib/python3.13/site-packages (from google-generativeai) (0.6.10)\n",
      "Requirement already satisfied: google-api-core in /Users/6lueparr0t/miniconda3/envs/llm/lib/python3.13/site-packages (from google-generativeai) (2.24.0)\n",
      "Requirement already satisfied: google-api-python-client in /Users/6lueparr0t/miniconda3/envs/llm/lib/python3.13/site-packages (from google-generativeai) (2.157.0)\n",
      "Requirement already satisfied: google-auth>=2.15.0 in /Users/6lueparr0t/miniconda3/envs/llm/lib/python3.13/site-packages (from google-generativeai) (2.37.0)\n",
      "Requirement already satisfied: protobuf in /Users/6lueparr0t/miniconda3/envs/llm/lib/python3.13/site-packages (from google-generativeai) (5.29.2)\n",
      "Requirement already satisfied: pydantic in /Users/6lueparr0t/miniconda3/envs/llm/lib/python3.13/site-packages (from google-generativeai) (2.10.3)\n",
      "Requirement already satisfied: tqdm in /Users/6lueparr0t/miniconda3/envs/llm/lib/python3.13/site-packages (from google-generativeai) (4.63.0)\n",
      "Requirement already satisfied: typing-extensions in /Users/6lueparr0t/miniconda3/envs/llm/lib/python3.13/site-packages (from google-generativeai) (4.12.2)\n",
      "Requirement already satisfied: proto-plus<2.0.0dev,>=1.22.3 in /Users/6lueparr0t/miniconda3/envs/llm/lib/python3.13/site-packages (from google-ai-generativelanguage==0.6.10->google-generativeai) (1.25.0)\n",
      "Requirement already satisfied: googleapis-common-protos<2.0.dev0,>=1.56.2 in /Users/6lueparr0t/miniconda3/envs/llm/lib/python3.13/site-packages (from google-api-core->google-generativeai) (1.66.0)\n",
      "Requirement already satisfied: requests<3.0.0.dev0,>=2.18.0 in /Users/6lueparr0t/miniconda3/envs/llm/lib/python3.13/site-packages (from google-api-core->google-generativeai) (2.32.3)\n",
      "Requirement already satisfied: cachetools<6.0,>=2.0.0 in /Users/6lueparr0t/miniconda3/envs/llm/lib/python3.13/site-packages (from google-auth>=2.15.0->google-generativeai) (5.5.0)\n",
      "Requirement already satisfied: pyasn1-modules>=0.2.1 in /Users/6lueparr0t/miniconda3/envs/llm/lib/python3.13/site-packages (from google-auth>=2.15.0->google-generativeai) (0.4.1)\n",
      "Requirement already satisfied: rsa<5,>=3.1.4 in /Users/6lueparr0t/miniconda3/envs/llm/lib/python3.13/site-packages (from google-auth>=2.15.0->google-generativeai) (4.9)\n",
      "Requirement already satisfied: httplib2<1.dev0,>=0.19.0 in /Users/6lueparr0t/miniconda3/envs/llm/lib/python3.13/site-packages (from google-api-python-client->google-generativeai) (0.22.0)\n",
      "Requirement already satisfied: google-auth-httplib2<1.0.0,>=0.2.0 in /Users/6lueparr0t/miniconda3/envs/llm/lib/python3.13/site-packages (from google-api-python-client->google-generativeai) (0.2.0)\n",
      "Requirement already satisfied: uritemplate<5,>=3.0.1 in /Users/6lueparr0t/miniconda3/envs/llm/lib/python3.13/site-packages (from google-api-python-client->google-generativeai) (4.1.1)\n",
      "Requirement already satisfied: annotated-types>=0.6.0 in /Users/6lueparr0t/miniconda3/envs/llm/lib/python3.13/site-packages (from pydantic->google-generativeai) (0.6.0)\n",
      "Requirement already satisfied: pydantic-core==2.27.1 in /Users/6lueparr0t/miniconda3/envs/llm/lib/python3.13/site-packages (from pydantic->google-generativeai) (2.27.1)\n",
      "Requirement already satisfied: grpcio<2.0dev,>=1.33.2 in /Users/6lueparr0t/miniconda3/envs/llm/lib/python3.13/site-packages (from google-api-core[grpc]!=2.0.*,!=2.1.*,!=2.10.*,!=2.2.*,!=2.3.*,!=2.4.*,!=2.5.*,!=2.6.*,!=2.7.*,!=2.8.*,!=2.9.*,<3.0.0dev,>=1.34.1->google-ai-generativelanguage==0.6.10->google-generativeai) (1.70.0)\n",
      "Requirement already satisfied: grpcio-status<2.0.dev0,>=1.33.2 in /Users/6lueparr0t/miniconda3/envs/llm/lib/python3.13/site-packages (from google-api-core[grpc]!=2.0.*,!=2.1.*,!=2.10.*,!=2.2.*,!=2.3.*,!=2.4.*,!=2.5.*,!=2.6.*,!=2.7.*,!=2.8.*,!=2.9.*,<3.0.0dev,>=1.34.1->google-ai-generativelanguage==0.6.10->google-generativeai) (1.68.1)\n",
      "Requirement already satisfied: pyparsing!=3.0.0,!=3.0.1,!=3.0.2,!=3.0.3,<4,>=2.4.2 in /Users/6lueparr0t/miniconda3/envs/llm/lib/python3.13/site-packages (from httplib2<1.dev0,>=0.19.0->google-api-python-client->google-generativeai) (3.2.1)\n",
      "Requirement already satisfied: pyasn1<0.7.0,>=0.4.6 in /Users/6lueparr0t/miniconda3/envs/llm/lib/python3.13/site-packages (from pyasn1-modules>=0.2.1->google-auth>=2.15.0->google-generativeai) (0.6.1)\n",
      "Requirement already satisfied: charset-normalizer<4,>=2 in /Users/6lueparr0t/miniconda3/envs/llm/lib/python3.13/site-packages (from requests<3.0.0.dev0,>=2.18.0->google-api-core->google-generativeai) (3.4.1)\n",
      "Requirement already satisfied: idna<4,>=2.5 in /Users/6lueparr0t/miniconda3/envs/llm/lib/python3.13/site-packages (from requests<3.0.0.dev0,>=2.18.0->google-api-core->google-generativeai) (3.7)\n",
      "Requirement already satisfied: urllib3<3,>=1.21.1 in /Users/6lueparr0t/miniconda3/envs/llm/lib/python3.13/site-packages (from requests<3.0.0.dev0,>=2.18.0->google-api-core->google-generativeai) (2.3.0)\n",
      "Requirement already satisfied: certifi>=2017.4.17 in /Users/6lueparr0t/miniconda3/envs/llm/lib/python3.13/site-packages (from requests<3.0.0.dev0,>=2.18.0->google-api-core->google-generativeai) (2024.12.14)\n",
      "Note: you may need to restart the kernel to use updated packages.\n"
     ]
    }
   ],
   "source": [
    "pip install google-generativeai"
   ]
  },
  {
   "cell_type": "code",
   "execution_count": 2,
   "id": "d893ed3f-282e-4a7d-83de-2a3f604d8f48",
   "metadata": {},
   "outputs": [],
   "source": [
    "import google.generativeai as genai"
   ]
  },
  {
   "cell_type": "code",
   "execution_count": 3,
   "id": "d6560427-eb06-449c-8953-a0cbb8869a4b",
   "metadata": {},
   "outputs": [],
   "source": [
    "# Gemini Model Load\n",
    "#model = genai.GenerativeModel(\"gemini-2.0-flash-lite\")"
   ]
  },
  {
   "cell_type": "code",
   "execution_count": 3,
   "id": "0142216a-c489-4f25-8989-ebdf2dc57e60",
   "metadata": {},
   "outputs": [],
   "source": [
    "# genai.configure(api_key=\"AIza~~\")\n",
    "from dotenv import dotenv_values\n",
    "\n",
    "# (1) .env 파일 로드\n",
    "config = dotenv_values('.env')  # 기본적으로 현재 프로젝트 루트/실행 위치의 .env를 탐색합니다."
   ]
  },
  {
   "cell_type": "code",
   "execution_count": 6,
   "id": "d801d19d-8971-4cb0-a967-dfcd4f284c94",
   "metadata": {},
   "outputs": [],
   "source": [
    "# (2) 환경변수에서 키 가져오기\n",
    "genai.configure(api_key=config['GEMINI_API_KEY'])"
   ]
  },
  {
   "cell_type": "code",
   "execution_count": 11,
   "id": "b080568c-0e52-4361-8502-a05dbeebfd9d",
   "metadata": {},
   "outputs": [
    {
     "data": {
      "text/plain": [
       "response:\n",
       "GenerateContentResponse(\n",
       "    done=True,\n",
       "    iterator=None,\n",
       "    result=protos.GenerateContentResponse({\n",
       "      \"candidates\": [\n",
       "        {\n",
       "          \"content\": {\n",
       "            \"parts\": [\n",
       "              {\n",
       "                \"text\": \"The world is hushed, a canvas gray,\\nWhere shadows stretch and softly play.\\nThe moon, a pearl in velvet skies,\\nWatches the world with gentle eyes.\\n\\nThe wind, a whisper through the trees,\\nCarries a scent of damp and ease.\\nThe rustling leaves, a murmuring choir,\\nSinging secrets to the fire\\nThat burns within a hidden heart,\\nA flame that sets the soul apart.\\n\\nAnd in this quiet, starlit night,\\nI search for truth, and guiding light.\\nFor answers whispered on the breeze,\\nAnd solace found among the trees.\\n\\nThe universe, a boundless sea,\\nOf wonder, waiting just for me.\\nSo let me breathe, and let me dream,\\nBeside this silent, flowing stream.\\nAnd find the peace I long to hold,\\nWithin this story to be told.\\n\"\n",
       "              }\n",
       "            ],\n",
       "            \"role\": \"model\"\n",
       "          },\n",
       "          \"finish_reason\": \"STOP\",\n",
       "          \"avg_logprobs\": -0.5309285481770833\n",
       "        },\n",
       "        {\n",
       "          \"content\": {\n",
       "            \"parts\": [\n",
       "              {\n",
       "                \"text\": \"The world is hushed, a velvet night descends,\\nAnd whispers secrets that the soft wind lends.\\nThe moon, a silver coin in inky skies,\\nWatches as starlight blinks with watchful eyes.\\n\\nThe trees stand tall, in silhouettes defined,\\nTheir leafy arms embrace the gentle kind\\nOf darkness, where imagination flies,\\nAnd painted dreams bloom in a lover's sighs.\\n\\nA lonely cricket chirps a rhythmic tune,\\nBeneath the silent glow of silver moon.\\nThe owl awakes, with eyes of amber bright,\\nTo hunt for shadows in the fading light.\\n\\nAnd in this peace, a quiet peace I find,\\nTo leave the clamor and the world behind.\\nTo breathe the air, so fresh and cool and deep,\\nAnd drift away, and finally, to sleep.\\n\"\n",
       "              }\n",
       "            ],\n",
       "            \"role\": \"model\"\n",
       "          },\n",
       "          \"finish_reason\": \"STOP\",\n",
       "          \"index\": 1,\n",
       "          \"avg_logprobs\": -0.6893931797572544\n",
       "        },\n",
       "        {\n",
       "          \"content\": {\n",
       "            \"parts\": [\n",
       "              {\n",
       "                \"text\": \"The world awakes, a canvas gray,\\nWhere shadows dance and gently play.\\nThe morning air, a whispered sigh,\\nAs darkness yields to the sun's bright eye.\\n\\nA robin sings a joyful tune,\\nBeneath the pale and silver moon.\\nThe dew-kissed grass, a verdant sheen,\\nA silent world, serene, unseen.\\n\\nThe river flows, a silver thread,\\nThrough meadows where the wildflowers spread.\\nA gentle breeze begins to blow,\\nAnd whispers secrets, soft and low.\\n\\nThe mountains rise, in solemn grace,\\nA timeless strength in time and space.\\nThe clouds drift by, in shapes so free,\\nA masterpiece for all to see.\\n\\nAnd in this moment, calm and still,\\nThe heart is filled, against its will,\\nWith wonder, peace, and sweet content,\\nA perfect day, divinely sent.\\n\"\n",
       "              }\n",
       "            ],\n",
       "            \"role\": \"model\"\n",
       "          },\n",
       "          \"finish_reason\": \"STOP\",\n",
       "          \"index\": 2,\n",
       "          \"avg_logprobs\": -0.4834980708296581\n",
       "        }\n",
       "      ],\n",
       "      \"usage_metadata\": {\n",
       "        \"prompt_token_count\": 4,\n",
       "        \"candidates_token_count\": 534,\n",
       "        \"total_token_count\": 538\n",
       "      }\n",
       "    }),\n",
       ")"
      ]
     },
     "execution_count": 11,
     "metadata": {},
     "output_type": "execute_result"
    }
   ],
   "source": [
    "model = genai.GenerativeModel(\"gemini-2.0-flash-lite\")\n",
    "model.generate_content(\"write me a poem\",\n",
    "     generation_config=genai.types.GenerationConfig(candidate_count=3)\n",
    ")"
   ]
  },
  {
   "cell_type": "code",
   "execution_count": 15,
   "id": "55a719dc-9a53-4521-9ce8-5e486903831e",
   "metadata": {},
   "outputs": [
    {
     "name": "stdout",
     "output_type": "stream",
     "text": [
      "Q: a single word. what color is pickle? Green\n",
      "\n"
     ]
    }
   ],
   "source": [
    "message = \"Q: a single word. what color is pickle?\"\n",
    "response = model.generate_content(message,\n",
    "     generation_config=genai.types.GenerationConfig(candidate_count=1, max_output_tokens=100)\n",
    ")\n",
    "\n",
    "## echo\n",
    "print(f\"{message} {response.text}\")"
   ]
  }
 ],
 "metadata": {
  "kernelspec": {
   "display_name": "Python 3 (ipykernel)",
   "language": "python",
   "name": "python3"
  },
  "language_info": {
   "codemirror_mode": {
    "name": "ipython",
    "version": 3
   },
   "file_extension": ".py",
   "mimetype": "text/x-python",
   "name": "python",
   "nbconvert_exporter": "python",
   "pygments_lexer": "ipython3",
   "version": "3.13.1"
  }
 },
 "nbformat": 4,
 "nbformat_minor": 5
}
